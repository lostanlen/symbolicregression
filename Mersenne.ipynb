{
 "cells": [
  {
   "cell_type": "code",
   "execution_count": 19,
   "metadata": {},
   "outputs": [],
   "source": [
    "import itertools\n",
    "import pandas as pd\n",
    "import numpy as np\n",
    "\n",
    "df = pd.DataFrame(columns=[\"L\", \"T\", \"mu\"])\n",
    "y = []\n",
    "mersenne = lambda L, T, mu: (np.sqrt(T/mu) / (2*L))# * (1 + np.random.randn()*0.1)\n",
    "\n",
    "Ls = np.logspace(0, 4, num=12, base=2, endpoint=False)\n",
    "Ts = np.logspace(0, 2, num=5, base=2, endpoint=False)\n",
    "mus = np.logspace(0, 2, num=5, base=2, endpoint=False)\n",
    "\n",
    "for (L, T, mu) in itertools.product(Ls, Ts, mus):\n",
    "    y.append(mersenne(L, T, mu))\n",
    "    df = df.append({\"L\": L, \"T\": T, \"mu\": mu}, ignore_index=True)\n",
    "y = np.array(y)"
   ]
  },
  {
   "cell_type": "code",
   "execution_count": 4,
   "metadata": {},
   "outputs": [
    {
     "name": "stdout",
     "output_type": "stream",
     "text": [
      "cuda:0\n",
      "Model successfully loaded!\n"
     ]
    }
   ],
   "source": [
    "import torch\n",
    "import numpy as np\n",
    "import sympy as sp\n",
    "import os, sys\n",
    "import symbolicregression\n",
    "import requests\n",
    "from IPython.display import display\n",
    "\n",
    "model_path = \"model.pt\" \n",
    "try:\n",
    "    if not os.path.isfile(model_path): \n",
    "        url = \"https://dl.fbaipublicfiles.com/symbolicregression/model1.pt\"\n",
    "        r = requests.get(url, allow_redirects=True)\n",
    "        open(model_path, 'wb').write(r.content)\n",
    "    if not torch.cuda.is_available():\n",
    "        model = torch.load(model_path, map_location=torch.device('cpu'))\n",
    "    else:\n",
    "        model = torch.load(model_path)\n",
    "        model = model.cuda()\n",
    "    print(model.device)\n",
    "    print(\"Model successfully loaded!\")\n",
    "\n",
    "except Exception as e:\n",
    "    print(\"ERROR: model not loaded! path was: {}\".format(model_path))\n",
    "    print(e)\n",
    "\n",
    "est = symbolicregression.model.SymbolicTransformerRegressor(\n",
    "    model=model,\n",
    "    max_input_points=200,\n",
    "    n_trees_to_refine=100,\n",
    "    rescale=True\n",
    "    )    "
   ]
  },
  {
   "cell_type": "code",
   "execution_count": 13,
   "metadata": {},
   "outputs": [
    {
     "data": {
      "text/latex": [
       "$\\displaystyle 0.0033399999999999997 + \\frac{0.883}{\\left(0.393 + \\frac{8.94}{0.079272033982009744 x_{2} - \\left(0.0128 - 6.93 \\left|{\\left(0.023531034256704861 x_{0} - 0.15796433521939713\\right) \\left(1.3846643490307378 x_{1} - 9.3702442550130565\\right) \\left(0.34062742986156153 x_{2} + 7.0703399132667879\\right)}\\right|\\right) \\left(0.066325422318572348 x_{1} + 0.056448300184874624\\right) - 0.14384398359949752}\\right) \\left(0.27683569713770423 x_{0} + 0.5486548797717987\\right) \\left(0.53171111002780333 x_{2} + 0.40150620607498618\\right)}$"
      ],
      "text/plain": [
       "0.0033399999999999997 + 0.883/((0.393 + 8.94/(0.079272033982009744*x_2 - (0.0128 - 6.93*Abs((0.023531034256704861*x_0 - 0.15796433521939713)*(1.3846643490307378*x_1 - 9.3702442550130565)*(0.34062742986156153*x_2 + 7.0703399132667879)))*(0.066325422318572348*x_1 + 0.056448300184874624) - 0.14384398359949752))*(0.27683569713770423*x_0 + 0.5486548797717987)*(0.53171111002780333*x_2 + 0.40150620607498618))"
      ]
     },
     "metadata": {},
     "output_type": "display_data"
    }
   ],
   "source": [
    "x = df.to_numpy()\n",
    "\n",
    "est.fit(x,y)\n",
    "replace_ops = {\"add\": \"+\", \"mul\": \"*\", \"sub\": \"-\", \"pow\": \"**\", \"inv\": \"1/\"}\n",
    "model_str = est.retrieve_tree(with_infos=True)[\"relabed_predicted_tree\"].infix()\n",
    "for op,replace_op in replace_ops.items():\n",
    "    model_str = model_str.replace(op,replace_op)\n",
    "display(sp.parse_expr(model_str))"
   ]
  },
  {
   "cell_type": "code",
   "execution_count": 17,
   "metadata": {},
   "outputs": [
    {
     "data": {
      "text/plain": [
       "(300,)"
      ]
     },
     "execution_count": 17,
     "metadata": {},
     "output_type": "execute_result"
    }
   ],
   "source": []
  },
  {
   "cell_type": "code",
   "execution_count": null,
   "metadata": {},
   "outputs": [],
   "source": []
  }
 ],
 "metadata": {
  "kernelspec": {
   "display_name": "kym",
   "language": "python",
   "name": "python3"
  },
  "language_info": {
   "codemirror_mode": {
    "name": "ipython",
    "version": 3
   },
   "file_extension": ".py",
   "mimetype": "text/x-python",
   "name": "python",
   "nbconvert_exporter": "python",
   "pygments_lexer": "ipython3",
   "version": "3.9.15"
  },
  "orig_nbformat": 4,
  "vscode": {
   "interpreter": {
    "hash": "02ca17155476280a9a7d5809e370aa11fb5fc878a147c890edb8126c332936ca"
   }
  }
 },
 "nbformat": 4,
 "nbformat_minor": 2
}
